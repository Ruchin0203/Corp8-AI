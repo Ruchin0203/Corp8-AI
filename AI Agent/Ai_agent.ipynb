{
 "cells": [
  {
   "cell_type": "code",
   "execution_count": null,
   "id": "6dbc7d53-3909-4117-813e-07dd6701bad8",
   "metadata": {},
   "outputs": [],
   "source": [
    "import os\n",
    "os.environ[\"OPENAI_API_KEY\"] = \"sk-proj-o9scy9gT3BlbkFJHkRNgKTH-i2KzFqlvsRWFPlrrwzQHl9wsJTpVuhR-qM6NLOYVRleM698IARLTAt8TuLsgjKV8A\""
   ]
  },
  {
   "cell_type": "code",
   "execution_count": null,
   "id": "2f74d531-c8c0-4c05-ac45-d3e19e31bcf7",
   "metadata": {},
   "outputs": [],
   "source": [
    "!pip install -q langchain-openai langchain-community langchain-core requests duckduckgo-search"
   ]
  },
  {
   "cell_type": "code",
   "execution_count": null,
   "id": "379f8417-204d-4c65-acff-fc97b19b876c",
   "metadata": {},
   "outputs": [],
   "source": [
    "from langchain_openai import ChatOpenAI\n",
    "from langchain_core.tools import tool\n",
    "import requests"
   ]
  },
  {
   "cell_type": "code",
   "execution_count": null,
   "id": "26c2f370-0915-4b1c-87d8-e9c706c7b75a",
   "metadata": {},
   "outputs": [],
   "source": [
    "from langchain_community.tools import DuckDuckGoSearchRun\n",
    "\n",
    "search_tool = DuckDuckGoSearchRun()"
   ]
  },
  {
   "cell_type": "code",
   "execution_count": null,
   "id": "73be30c6-ceed-467f-bd9f-1cfe724800f4",
   "metadata": {},
   "outputs": [],
   "source": [
    "@tool\n",
    "def get_weather_data(city: str) -> str:\n",
    "  \"\"\"\n",
    "  This function fetches the current weather data for a given city\n",
    "  \"\"\"\n",
    "  url = f'https://api.weatherstack.com/current?access_key=4d1d8aetrimmed623e&query={city}'\n",
    "\n",
    "  response = requests.get(url)\n",
    "\n",
    "  return response.json()"
   ]
  },
  {
   "cell_type": "code",
   "execution_count": null,
   "id": "8972fadf-4de2-4c2c-9eef-f761f73b73ea",
   "metadata": {},
   "outputs": [],
   "source": [
    "llm = ChatOpenAI()"
   ]
  },
  {
   "cell_type": "code",
   "execution_count": null,
   "id": "3a62aba4-2f90-47c5-a5af-2253600237c1",
   "metadata": {},
   "outputs": [],
   "source": [
    "from langchain.agents import create_react_agent, AgentExecutor\n",
    "from langchain import hub"
   ]
  },
  {
   "cell_type": "code",
   "execution_count": null,
   "id": "066b9631-aaee-45ef-a2ef-66bcc1f98443",
   "metadata": {},
   "outputs": [],
   "source": [
    "# Step 2: Pull the ReAct prompt from LangChain Hub\n",
    "prompt = hub.pull(\"hwchase17/react\")  # pulls the standard ReAct agent prompt\n"
   ]
  },
  {
   "cell_type": "code",
   "execution_count": null,
   "id": "aad52136-da0b-4e17-ace6-64c9fd9c92aa",
   "metadata": {},
   "outputs": [],
   "source": [
    "# Step 3: Create the ReAct agent manually with the pulled prompt\n",
    "agent = create_react_agent(\n",
    "    llm=llm,\n",
    "    tools=[search_tool, get_weather_data],\n",
    "    prompt=prompt\n",
    ")"
   ]
  },
  {
   "cell_type": "code",
   "execution_count": null,
   "id": "b22364d1-c3e8-4a55-8f80-dca395fb894d",
   "metadata": {},
   "outputs": [],
   "source": [
    "# Step 4: Wrap it with AgentExecutor\n",
    "agent_executor = AgentExecutor(\n",
    "    agent=agent,\n",
    "    tools=[search_tool, get_weather_data],\n",
    "    verbose=True\n",
    ")"
   ]
  },
  {
   "cell_type": "code",
   "execution_count": null,
   "id": "ed790211-bce5-43d1-bc74-cf2ff74da722",
   "metadata": {},
   "outputs": [],
   "source": [
    "# Step 5: Invoke\n",
    "response = agent_executor.invoke({\"input\": \"Find the capital of Madhya Pradesh, then find it's current weather condition\"})\n",
    "print(response)"
   ]
  },
  {
   "cell_type": "code",
   "execution_count": null,
   "id": "52ed9e0b-d336-47f9-b2c0-8793b0a167a8",
   "metadata": {},
   "outputs": [],
   "source": [
    "response['output']"
   ]
  }
 ],
 "metadata": {
  "kernelspec": {
   "display_name": "Python 3 (ipykernel)",
   "language": "python",
   "name": "python3"
  },
  "language_info": {
   "codemirror_mode": {
    "name": "ipython",
    "version": 3
   },
   "file_extension": ".py",
   "mimetype": "text/x-python",
   "name": "python",
   "nbconvert_exporter": "python",
   "pygments_lexer": "ipython3",
   "version": "3.12.5"
  }
 },
 "nbformat": 4,
 "nbformat_minor": 5
}
