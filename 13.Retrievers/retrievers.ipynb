{
 "cells": [
  {
   "cell_type": "code",
   "execution_count": 1,
   "id": "b1347cd9-7d48-46d4-a815-e944f461eeab",
   "metadata": {},
   "outputs": [],
   "source": [
    "import os\n",
    "os.environ[\"OPENAI_API_KEY\"] = \"sk-proj-aOrFC5Kv6j6RomRGR-ACpT3BlbkFJ_oZ1CAo2shNwf4dwJK1rVFosrrfAyrH7TL3Gpf5DnKrkA\""
   ]
  },
  {
   "cell_type": "code",
   "execution_count": 2,
   "id": "791ea802-3d11-4cae-a8be-b2f2ae3a92c0",
   "metadata": {},
   "outputs": [
    {
     "name": "stdout",
     "output_type": "stream",
     "text": [
      "Requirement already satisfied: langchain in c:\\users\\flex5\\appdata\\local\\programs\\python\\python312\\lib\\site-packages (0.3.26)\n",
      "Requirement already satisfied: chromadb in c:\\users\\flex5\\appdata\\local\\programs\\python\\python312\\lib\\site-packages (1.0.15)\n",
      "Requirement already satisfied: faiss-cpu in c:\\users\\flex5\\appdata\\local\\programs\\python\\python312\\lib\\site-packages (1.11.0)\n",
      "Requirement already satisfied: openai in c:\\users\\flex5\\appdata\\local\\programs\\python\\python312\\lib\\site-packages (1.90.0)\n",
      "Requirement already satisfied: tiktoken in c:\\users\\flex5\\appdata\\local\\programs\\python\\python312\\lib\\site-packages (0.9.0)\n",
      "Requirement already satisfied: langchain_openai in c:\\users\\flex5\\appdata\\local\\programs\\python\\python312\\lib\\site-packages (0.3.24)\n",
      "Requirement already satisfied: langchain-community in c:\\users\\flex5\\appdata\\local\\programs\\python\\python312\\lib\\site-packages (0.3.26)\n",
      "Collecting wikipedia\n",
      "  Downloading wikipedia-1.4.0.tar.gz (27 kB)\n",
      "  Preparing metadata (setup.py): started\n",
      "  Preparing metadata (setup.py): finished with status 'done'\n",
      "Requirement already satisfied: langchain-core<1.0.0,>=0.3.66 in c:\\users\\flex5\\appdata\\local\\programs\\python\\python312\\lib\\site-packages (from langchain) (0.3.66)\n",
      "Requirement already satisfied: langchain-text-splitters<1.0.0,>=0.3.8 in c:\\users\\flex5\\appdata\\local\\programs\\python\\python312\\lib\\site-packages (from langchain) (0.3.8)\n",
      "Requirement already satisfied: langsmith>=0.1.17 in c:\\users\\flex5\\appdata\\local\\programs\\python\\python312\\lib\\site-packages (from langchain) (0.4.1)\n",
      "Requirement already satisfied: pydantic<3.0.0,>=2.7.4 in c:\\users\\flex5\\appdata\\local\\programs\\python\\python312\\lib\\site-packages (from langchain) (2.11.7)\n",
      "Requirement already satisfied: SQLAlchemy<3,>=1.4 in c:\\users\\flex5\\appdata\\local\\programs\\python\\python312\\lib\\site-packages (from langchain) (1.4.24)\n",
      "Requirement already satisfied: requests<3,>=2 in c:\\users\\flex5\\appdata\\local\\programs\\python\\python312\\lib\\site-packages (from langchain) (2.32.3)\n",
      "Requirement already satisfied: PyYAML>=5.3 in c:\\users\\flex5\\appdata\\local\\programs\\python\\python312\\lib\\site-packages (from langchain) (6.0.2)\n",
      "Requirement already satisfied: tenacity!=8.4.0,<10.0.0,>=8.1.0 in c:\\users\\flex5\\appdata\\local\\programs\\python\\python312\\lib\\site-packages (from langchain-core<1.0.0,>=0.3.66->langchain) (9.1.2)\n",
      "Requirement already satisfied: jsonpatch<2.0,>=1.33 in c:\\users\\flex5\\appdata\\local\\programs\\python\\python312\\lib\\site-packages (from langchain-core<1.0.0,>=0.3.66->langchain) (1.33)\n",
      "Requirement already satisfied: packaging<25,>=23.2 in c:\\users\\flex5\\appdata\\local\\programs\\python\\python312\\lib\\site-packages (from langchain-core<1.0.0,>=0.3.66->langchain) (24.1)\n",
      "Requirement already satisfied: typing-extensions>=4.7 in c:\\users\\flex5\\appdata\\local\\programs\\python\\python312\\lib\\site-packages (from langchain-core<1.0.0,>=0.3.66->langchain) (4.12.2)\n",
      "Requirement already satisfied: jsonpointer>=1.9 in c:\\users\\flex5\\appdata\\local\\programs\\python\\python312\\lib\\site-packages (from jsonpatch<2.0,>=1.33->langchain-core<1.0.0,>=0.3.66->langchain) (3.0.0)\n",
      "Requirement already satisfied: annotated-types>=0.6.0 in c:\\users\\flex5\\appdata\\local\\programs\\python\\python312\\lib\\site-packages (from pydantic<3.0.0,>=2.7.4->langchain) (0.7.0)\n",
      "Requirement already satisfied: pydantic-core==2.33.2 in c:\\users\\flex5\\appdata\\local\\programs\\python\\python312\\lib\\site-packages (from pydantic<3.0.0,>=2.7.4->langchain) (2.33.2)\n",
      "Requirement already satisfied: typing-inspection>=0.4.0 in c:\\users\\flex5\\appdata\\local\\programs\\python\\python312\\lib\\site-packages (from pydantic<3.0.0,>=2.7.4->langchain) (0.4.1)\n",
      "Requirement already satisfied: charset-normalizer<4,>=2 in c:\\users\\flex5\\appdata\\local\\programs\\python\\python312\\lib\\site-packages (from requests<3,>=2->langchain) (3.3.2)\n",
      "Requirement already satisfied: idna<4,>=2.5 in c:\\users\\flex5\\appdata\\local\\programs\\python\\python312\\lib\\site-packages (from requests<3,>=2->langchain) (3.7)\n",
      "Requirement already satisfied: urllib3<3,>=1.21.1 in c:\\users\\flex5\\appdata\\local\\programs\\python\\python312\\lib\\site-packages (from requests<3,>=2->langchain) (2.2.2)\n",
      "Requirement already satisfied: certifi>=2017.4.17 in c:\\users\\flex5\\appdata\\local\\programs\\python\\python312\\lib\\site-packages (from requests<3,>=2->langchain) (2024.7.4)\n",
      "Requirement already satisfied: build>=1.0.3 in c:\\users\\flex5\\appdata\\local\\programs\\python\\python312\\lib\\site-packages (from chromadb) (1.2.2.post1)\n",
      "Requirement already satisfied: pybase64>=1.4.1 in c:\\users\\flex5\\appdata\\local\\programs\\python\\python312\\lib\\site-packages (from chromadb) (1.4.1)\n",
      "Requirement already satisfied: uvicorn>=0.18.3 in c:\\users\\flex5\\appdata\\local\\programs\\python\\python312\\lib\\site-packages (from uvicorn[standard]>=0.18.3->chromadb) (0.35.0)\n",
      "Requirement already satisfied: numpy>=1.22.5 in c:\\users\\flex5\\appdata\\local\\programs\\python\\python312\\lib\\site-packages (from chromadb) (1.26.4)\n",
      "Requirement already satisfied: posthog<6.0.0,>=2.4.0 in c:\\users\\flex5\\appdata\\local\\programs\\python\\python312\\lib\\site-packages (from chromadb) (5.4.0)\n",
      "Requirement already satisfied: onnxruntime>=1.14.1 in c:\\users\\flex5\\appdata\\local\\programs\\python\\python312\\lib\\site-packages (from chromadb) (1.22.0)\n",
      "Requirement already satisfied: opentelemetry-api>=1.2.0 in c:\\users\\flex5\\appdata\\local\\programs\\python\\python312\\lib\\site-packages (from chromadb) (1.34.1)\n",
      "Requirement already satisfied: opentelemetry-exporter-otlp-proto-grpc>=1.2.0 in c:\\users\\flex5\\appdata\\local\\programs\\python\\python312\\lib\\site-packages (from chromadb) (1.34.1)\n",
      "Requirement already satisfied: opentelemetry-sdk>=1.2.0 in c:\\users\\flex5\\appdata\\local\\programs\\python\\python312\\lib\\site-packages (from chromadb) (1.34.1)\n",
      "Requirement already satisfied: tokenizers>=0.13.2 in c:\\users\\flex5\\appdata\\local\\programs\\python\\python312\\lib\\site-packages (from chromadb) (0.21.1)\n",
      "Requirement already satisfied: pypika>=0.48.9 in c:\\users\\flex5\\appdata\\local\\programs\\python\\python312\\lib\\site-packages (from chromadb) (0.48.9)\n",
      "Requirement already satisfied: tqdm>=4.65.0 in c:\\users\\flex5\\appdata\\local\\programs\\python\\python312\\lib\\site-packages (from chromadb) (4.66.5)\n",
      "Requirement already satisfied: overrides>=7.3.1 in c:\\users\\flex5\\appdata\\local\\programs\\python\\python312\\lib\\site-packages (from chromadb) (7.7.0)\n",
      "Requirement already satisfied: importlib-resources in c:\\users\\flex5\\appdata\\local\\programs\\python\\python312\\lib\\site-packages (from chromadb) (6.5.2)\n",
      "Requirement already satisfied: grpcio>=1.58.0 in c:\\users\\flex5\\appdata\\local\\programs\\python\\python312\\lib\\site-packages (from chromadb) (1.66.1)\n",
      "Requirement already satisfied: bcrypt>=4.0.1 in c:\\users\\flex5\\appdata\\local\\programs\\python\\python312\\lib\\site-packages (from chromadb) (4.3.0)\n",
      "Requirement already satisfied: typer>=0.9.0 in c:\\users\\flex5\\appdata\\local\\programs\\python\\python312\\lib\\site-packages (from chromadb) (0.16.0)\n",
      "Requirement already satisfied: kubernetes>=28.1.0 in c:\\users\\flex5\\appdata\\local\\programs\\python\\python312\\lib\\site-packages (from chromadb) (33.1.0)\n",
      "Requirement already satisfied: mmh3>=4.0.1 in c:\\users\\flex5\\appdata\\local\\programs\\python\\python312\\lib\\site-packages (from chromadb) (5.1.0)\n",
      "Requirement already satisfied: orjson>=3.9.12 in c:\\users\\flex5\\appdata\\local\\programs\\python\\python312\\lib\\site-packages (from chromadb) (3.10.18)\n",
      "Requirement already satisfied: httpx>=0.27.0 in c:\\users\\flex5\\appdata\\local\\programs\\python\\python312\\lib\\site-packages (from chromadb) (0.27.0)\n",
      "Requirement already satisfied: rich>=10.11.0 in c:\\users\\flex5\\appdata\\local\\programs\\python\\python312\\lib\\site-packages (from chromadb) (13.8.1)\n",
      "Requirement already satisfied: jsonschema>=4.19.0 in c:\\users\\flex5\\appdata\\local\\programs\\python\\python312\\lib\\site-packages (from chromadb) (4.23.0)\n",
      "Requirement already satisfied: six>=1.5 in c:\\users\\flex5\\appdata\\local\\programs\\python\\python312\\lib\\site-packages (from posthog<6.0.0,>=2.4.0->chromadb) (1.16.0)\n",
      "Requirement already satisfied: python-dateutil>=2.2 in c:\\users\\flex5\\appdata\\local\\programs\\python\\python312\\lib\\site-packages (from posthog<6.0.0,>=2.4.0->chromadb) (2.9.0.post0)\n",
      "Requirement already satisfied: backoff>=1.10.0 in c:\\users\\flex5\\appdata\\local\\programs\\python\\python312\\lib\\site-packages (from posthog<6.0.0,>=2.4.0->chromadb) (2.2.1)\n",
      "Requirement already satisfied: distro>=1.5.0 in c:\\users\\flex5\\appdata\\local\\programs\\python\\python312\\lib\\site-packages (from posthog<6.0.0,>=2.4.0->chromadb) (1.9.0)\n",
      "Requirement already satisfied: anyio<5,>=3.5.0 in c:\\users\\flex5\\appdata\\local\\programs\\python\\python312\\lib\\site-packages (from openai) (4.4.0)\n",
      "Requirement already satisfied: jiter<1,>=0.4.0 in c:\\users\\flex5\\appdata\\local\\programs\\python\\python312\\lib\\site-packages (from openai) (0.10.0)\n",
      "Requirement already satisfied: sniffio in c:\\users\\flex5\\appdata\\local\\programs\\python\\python312\\lib\\site-packages (from openai) (1.3.1)\n",
      "Requirement already satisfied: httpcore==1.* in c:\\users\\flex5\\appdata\\local\\programs\\python\\python312\\lib\\site-packages (from httpx>=0.27.0->chromadb) (1.0.5)\n",
      "Requirement already satisfied: h11<0.15,>=0.13 in c:\\users\\flex5\\appdata\\local\\programs\\python\\python312\\lib\\site-packages (from httpcore==1.*->httpx>=0.27.0->chromadb) (0.14.0)\n",
      "Requirement already satisfied: regex>=2022.1.18 in c:\\users\\flex5\\appdata\\local\\programs\\python\\python312\\lib\\site-packages (from tiktoken) (2024.11.6)\n",
      "Requirement already satisfied: aiohttp<4.0.0,>=3.8.3 in c:\\users\\flex5\\appdata\\local\\programs\\python\\python312\\lib\\site-packages (from langchain-community) (3.12.13)\n",
      "Requirement already satisfied: dataclasses-json<0.7,>=0.5.7 in c:\\users\\flex5\\appdata\\local\\programs\\python\\python312\\lib\\site-packages (from langchain-community) (0.6.7)\n",
      "Requirement already satisfied: pydantic-settings<3.0.0,>=2.4.0 in c:\\users\\flex5\\appdata\\local\\programs\\python\\python312\\lib\\site-packages (from langchain-community) (2.10.0)\n",
      "Requirement already satisfied: httpx-sse<1.0.0,>=0.4.0 in c:\\users\\flex5\\appdata\\local\\programs\\python\\python312\\lib\\site-packages (from langchain-community) (0.4.0)\n",
      "Requirement already satisfied: aiohappyeyeballs>=2.5.0 in c:\\users\\flex5\\appdata\\local\\programs\\python\\python312\\lib\\site-packages (from aiohttp<4.0.0,>=3.8.3->langchain-community) (2.6.1)\n",
      "Requirement already satisfied: aiosignal>=1.1.2 in c:\\users\\flex5\\appdata\\local\\programs\\python\\python312\\lib\\site-packages (from aiohttp<4.0.0,>=3.8.3->langchain-community) (1.3.2)\n",
      "Requirement already satisfied: attrs>=17.3.0 in c:\\users\\flex5\\appdata\\local\\programs\\python\\python312\\lib\\site-packages (from aiohttp<4.0.0,>=3.8.3->langchain-community) (24.2.0)\n",
      "Requirement already satisfied: frozenlist>=1.1.1 in c:\\users\\flex5\\appdata\\local\\programs\\python\\python312\\lib\\site-packages (from aiohttp<4.0.0,>=3.8.3->langchain-community) (1.7.0)\n",
      "Requirement already satisfied: multidict<7.0,>=4.5 in c:\\users\\flex5\\appdata\\local\\programs\\python\\python312\\lib\\site-packages (from aiohttp<4.0.0,>=3.8.3->langchain-community) (6.5.0)\n",
      "Requirement already satisfied: propcache>=0.2.0 in c:\\users\\flex5\\appdata\\local\\programs\\python\\python312\\lib\\site-packages (from aiohttp<4.0.0,>=3.8.3->langchain-community) (0.3.2)\n",
      "Requirement already satisfied: yarl<2.0,>=1.17.0 in c:\\users\\flex5\\appdata\\local\\programs\\python\\python312\\lib\\site-packages (from aiohttp<4.0.0,>=3.8.3->langchain-community) (1.20.1)\n",
      "Requirement already satisfied: marshmallow<4.0.0,>=3.18.0 in c:\\users\\flex5\\appdata\\local\\programs\\python\\python312\\lib\\site-packages (from dataclasses-json<0.7,>=0.5.7->langchain-community) (3.26.1)\n",
      "Requirement already satisfied: typing-inspect<1,>=0.4.0 in c:\\users\\flex5\\appdata\\local\\programs\\python\\python312\\lib\\site-packages (from dataclasses-json<0.7,>=0.5.7->langchain-community) (0.9.0)\n",
      "Requirement already satisfied: python-dotenv>=0.21.0 in c:\\users\\flex5\\appdata\\local\\programs\\python\\python312\\lib\\site-packages (from pydantic-settings<3.0.0,>=2.4.0->langchain-community) (1.1.0)\n",
      "Requirement already satisfied: mypy-extensions>=0.3.0 in c:\\users\\flex5\\appdata\\local\\programs\\python\\python312\\lib\\site-packages (from typing-inspect<1,>=0.4.0->dataclasses-json<0.7,>=0.5.7->langchain-community) (1.1.0)\n",
      "Requirement already satisfied: beautifulsoup4 in c:\\users\\flex5\\appdata\\local\\programs\\python\\python312\\lib\\site-packages (from wikipedia) (4.12.3)\n",
      "Requirement already satisfied: pyproject_hooks in c:\\users\\flex5\\appdata\\local\\programs\\python\\python312\\lib\\site-packages (from build>=1.0.3->chromadb) (1.2.0)\n",
      "Requirement already satisfied: colorama in c:\\users\\flex5\\appdata\\local\\programs\\python\\python312\\lib\\site-packages (from build>=1.0.3->chromadb) (0.4.6)\n",
      "Requirement already satisfied: jsonschema-specifications>=2023.03.6 in c:\\users\\flex5\\appdata\\local\\programs\\python\\python312\\lib\\site-packages (from jsonschema>=4.19.0->chromadb) (2023.12.1)\n",
      "Requirement already satisfied: referencing>=0.28.4 in c:\\users\\flex5\\appdata\\local\\programs\\python\\python312\\lib\\site-packages (from jsonschema>=4.19.0->chromadb) (0.35.1)\n",
      "Requirement already satisfied: rpds-py>=0.7.1 in c:\\users\\flex5\\appdata\\local\\programs\\python\\python312\\lib\\site-packages (from jsonschema>=4.19.0->chromadb) (0.20.0)\n",
      "Requirement already satisfied: google-auth>=1.0.1 in c:\\users\\flex5\\appdata\\local\\programs\\python\\python312\\lib\\site-packages (from kubernetes>=28.1.0->chromadb) (2.40.3)\n",
      "Requirement already satisfied: websocket-client!=0.40.0,!=0.41.*,!=0.42.*,>=0.32.0 in c:\\users\\flex5\\appdata\\local\\programs\\python\\python312\\lib\\site-packages (from kubernetes>=28.1.0->chromadb) (1.8.0)\n",
      "Requirement already satisfied: requests-oauthlib in c:\\users\\flex5\\appdata\\local\\programs\\python\\python312\\lib\\site-packages (from kubernetes>=28.1.0->chromadb) (2.0.0)\n",
      "Requirement already satisfied: oauthlib>=3.2.2 in c:\\users\\flex5\\appdata\\local\\programs\\python\\python312\\lib\\site-packages (from kubernetes>=28.1.0->chromadb) (3.3.1)\n",
      "Requirement already satisfied: durationpy>=0.7 in c:\\users\\flex5\\appdata\\local\\programs\\python\\python312\\lib\\site-packages (from kubernetes>=28.1.0->chromadb) (0.10)\n",
      "Requirement already satisfied: cachetools<6.0,>=2.0.0 in c:\\users\\flex5\\appdata\\local\\programs\\python\\python312\\lib\\site-packages (from google-auth>=1.0.1->kubernetes>=28.1.0->chromadb) (5.5.2)\n",
      "Requirement already satisfied: pyasn1-modules>=0.2.1 in c:\\users\\flex5\\appdata\\local\\programs\\python\\python312\\lib\\site-packages (from google-auth>=1.0.1->kubernetes>=28.1.0->chromadb) (0.4.2)\n",
      "Requirement already satisfied: rsa<5,>=3.1.4 in c:\\users\\flex5\\appdata\\local\\programs\\python\\python312\\lib\\site-packages (from google-auth>=1.0.1->kubernetes>=28.1.0->chromadb) (4.9.1)\n",
      "Requirement already satisfied: pyasn1>=0.1.3 in c:\\users\\flex5\\appdata\\local\\programs\\python\\python312\\lib\\site-packages (from rsa<5,>=3.1.4->google-auth>=1.0.1->kubernetes>=28.1.0->chromadb) (0.6.1)\n",
      "Requirement already satisfied: requests-toolbelt<2.0.0,>=1.0.0 in c:\\users\\flex5\\appdata\\local\\programs\\python\\python312\\lib\\site-packages (from langsmith>=0.1.17->langchain) (1.0.0)\n",
      "Requirement already satisfied: zstandard<0.24.0,>=0.23.0 in c:\\users\\flex5\\appdata\\local\\programs\\python\\python312\\lib\\site-packages (from langsmith>=0.1.17->langchain) (0.23.0)\n",
      "Requirement already satisfied: coloredlogs in c:\\users\\flex5\\appdata\\local\\programs\\python\\python312\\lib\\site-packages (from onnxruntime>=1.14.1->chromadb) (15.0.1)\n",
      "Requirement already satisfied: flatbuffers in c:\\users\\flex5\\appdata\\local\\programs\\python\\python312\\lib\\site-packages (from onnxruntime>=1.14.1->chromadb) (24.3.25)\n",
      "Requirement already satisfied: protobuf in c:\\users\\flex5\\appdata\\local\\programs\\python\\python312\\lib\\site-packages (from onnxruntime>=1.14.1->chromadb) (5.29.5)\n",
      "Requirement already satisfied: sympy in c:\\users\\flex5\\appdata\\local\\programs\\python\\python312\\lib\\site-packages (from onnxruntime>=1.14.1->chromadb) (1.14.0)\n",
      "Requirement already satisfied: importlib-metadata<8.8.0,>=6.0 in c:\\users\\flex5\\appdata\\local\\programs\\python\\python312\\lib\\site-packages (from opentelemetry-api>=1.2.0->chromadb) (8.7.0)\n",
      "Requirement already satisfied: zipp>=3.20 in c:\\users\\flex5\\appdata\\local\\programs\\python\\python312\\lib\\site-packages (from importlib-metadata<8.8.0,>=6.0->opentelemetry-api>=1.2.0->chromadb) (3.23.0)\n",
      "Requirement already satisfied: googleapis-common-protos~=1.52 in c:\\users\\flex5\\appdata\\local\\programs\\python\\python312\\lib\\site-packages (from opentelemetry-exporter-otlp-proto-grpc>=1.2.0->chromadb) (1.70.0)\n",
      "Requirement already satisfied: opentelemetry-exporter-otlp-proto-common==1.34.1 in c:\\users\\flex5\\appdata\\local\\programs\\python\\python312\\lib\\site-packages (from opentelemetry-exporter-otlp-proto-grpc>=1.2.0->chromadb) (1.34.1)\n",
      "Requirement already satisfied: opentelemetry-proto==1.34.1 in c:\\users\\flex5\\appdata\\local\\programs\\python\\python312\\lib\\site-packages (from opentelemetry-exporter-otlp-proto-grpc>=1.2.0->chromadb) (1.34.1)\n",
      "Requirement already satisfied: opentelemetry-semantic-conventions==0.55b1 in c:\\users\\flex5\\appdata\\local\\programs\\python\\python312\\lib\\site-packages (from opentelemetry-sdk>=1.2.0->chromadb) (0.55b1)\n",
      "Requirement already satisfied: markdown-it-py>=2.2.0 in c:\\users\\flex5\\appdata\\local\\programs\\python\\python312\\lib\\site-packages (from rich>=10.11.0->chromadb) (3.0.0)\n",
      "Requirement already satisfied: pygments<3.0.0,>=2.13.0 in c:\\users\\flex5\\appdata\\local\\programs\\python\\python312\\lib\\site-packages (from rich>=10.11.0->chromadb) (2.18.0)\n",
      "Requirement already satisfied: mdurl~=0.1 in c:\\users\\flex5\\appdata\\local\\programs\\python\\python312\\lib\\site-packages (from markdown-it-py>=2.2.0->rich>=10.11.0->chromadb) (0.1.2)\n",
      "Requirement already satisfied: huggingface-hub<1.0,>=0.16.4 in c:\\users\\flex5\\appdata\\local\\programs\\python\\python312\\lib\\site-packages (from tokenizers>=0.13.2->chromadb) (0.33.0)\n",
      "Requirement already satisfied: filelock in c:\\users\\flex5\\appdata\\local\\programs\\python\\python312\\lib\\site-packages (from huggingface-hub<1.0,>=0.16.4->tokenizers>=0.13.2->chromadb) (3.18.0)\n",
      "Requirement already satisfied: fsspec>=2023.5.0 in c:\\users\\flex5\\appdata\\local\\programs\\python\\python312\\lib\\site-packages (from huggingface-hub<1.0,>=0.16.4->tokenizers>=0.13.2->chromadb) (2025.5.1)\n",
      "Requirement already satisfied: click>=8.0.0 in c:\\users\\flex5\\appdata\\local\\programs\\python\\python312\\lib\\site-packages (from typer>=0.9.0->chromadb) (8.1.7)\n",
      "Requirement already satisfied: shellingham>=1.3.0 in c:\\users\\flex5\\appdata\\local\\programs\\python\\python312\\lib\\site-packages (from typer>=0.9.0->chromadb) (1.5.4)\n",
      "Requirement already satisfied: httptools>=0.6.3 in c:\\users\\flex5\\appdata\\local\\programs\\python\\python312\\lib\\site-packages (from uvicorn[standard]>=0.18.3->chromadb) (0.6.4)\n",
      "Requirement already satisfied: watchfiles>=0.13 in c:\\users\\flex5\\appdata\\local\\programs\\python\\python312\\lib\\site-packages (from uvicorn[standard]>=0.18.3->chromadb) (1.1.0)\n",
      "Requirement already satisfied: websockets>=10.4 in c:\\users\\flex5\\appdata\\local\\programs\\python\\python312\\lib\\site-packages (from uvicorn[standard]>=0.18.3->chromadb) (15.0.1)\n",
      "Requirement already satisfied: soupsieve>1.2 in c:\\users\\flex5\\appdata\\local\\programs\\python\\python312\\lib\\site-packages (from beautifulsoup4->wikipedia) (2.6)\n",
      "Requirement already satisfied: humanfriendly>=9.1 in c:\\users\\flex5\\appdata\\local\\programs\\python\\python312\\lib\\site-packages (from coloredlogs->onnxruntime>=1.14.1->chromadb) (10.0)\n",
      "Requirement already satisfied: pyreadline3 in c:\\users\\flex5\\appdata\\local\\programs\\python\\python312\\lib\\site-packages (from humanfriendly>=9.1->coloredlogs->onnxruntime>=1.14.1->chromadb) (3.5.4)\n",
      "Requirement already satisfied: mpmath<1.4,>=1.1.0 in c:\\users\\flex5\\appdata\\local\\programs\\python\\python312\\lib\\site-packages (from sympy->onnxruntime>=1.14.1->chromadb) (1.3.0)\n",
      "Building wheels for collected packages: wikipedia\n",
      "  Building wheel for wikipedia (setup.py): started\n",
      "  Building wheel for wikipedia (setup.py): finished with status 'done'\n",
      "  Created wheel for wikipedia: filename=wikipedia-1.4.0-py3-none-any.whl size=11705 sha256=83e2162bbc9275836c1a8d55116dc61051daff458284d502de51fff26b092bf9\n",
      "  Stored in directory: c:\\users\\flex5\\appdata\\local\\pip\\cache\\wheels\\63\\47\\7c\\a9688349aa74d228ce0a9023229c6c0ac52ca2a40fe87679b8\n",
      "Successfully built wikipedia\n",
      "Installing collected packages: wikipedia\n",
      "Successfully installed wikipedia-1.4.0\n"
     ]
    },
    {
     "name": "stderr",
     "output_type": "stream",
     "text": [
      "  DEPRECATION: Building 'wikipedia' using the legacy setup.py bdist_wheel mechanism, which will be removed in a future version. pip 25.3 will enforce this behaviour change. A possible replacement is to use the standardized build interface by setting the `--use-pep517` option, (possibly combined with `--no-build-isolation`), or adding a `pyproject.toml` file to the source tree of 'wikipedia'. Discussion can be found at https://github.com/pypa/pip/issues/6334\n"
     ]
    }
   ],
   "source": [
    "!pip install langchain chromadb faiss-cpu openai tiktoken langchain_openai langchain-community wikipedia"
   ]
  },
  {
   "cell_type": "markdown",
   "id": "db31a06d-8434-4237-803f-769546e064b7",
   "metadata": {},
   "source": [
    "## Wikipedia Retriever"
   ]
  },
  {
   "cell_type": "code",
   "execution_count": 3,
   "id": "25073c8a-5cd2-43c0-a9cb-d38284c055d5",
   "metadata": {},
   "outputs": [],
   "source": [
    "from langchain_community.retrievers import WikipediaRetriever"
   ]
  },
  {
   "cell_type": "code",
   "execution_count": 4,
   "id": "9bd07ac6-bc1e-4619-97d8-7c43d8c1e795",
   "metadata": {},
   "outputs": [],
   "source": [
    "# Initialize the retriever (optional: set language and top_k)\n",
    "retriever = WikipediaRetriever(top_k_results=2, lang=\"en\")"
   ]
  },
  {
   "cell_type": "code",
   "execution_count": 5,
   "id": "3412077e-d1dc-4650-88b8-c9fa7d17541a",
   "metadata": {},
   "outputs": [],
   "source": [
    "\n",
    "# Define your query\n",
    "query = \"the geopolitical history of india and pakistan from the perspective of a chinese\"\n",
    "\n",
    "# Get relevant Wikipedia documents\n",
    "docs = retriever.invoke(query)"
   ]
  },
  {
   "cell_type": "code",
   "execution_count": 6,
   "id": "da9ce37e-340f-4ec4-a744-5a2a297c881a",
   "metadata": {},
   "outputs": [
    {
     "data": {
      "text/plain": [
       "[Document(metadata={'title': 'Foreign relations of Pakistan', 'summary': \"The Islamic Republic of Pakistan emerged as an independent country through the partition of India in August 1947 and was admitted as a United Nations member state in September 1947. It is currently the second-most populous country within the Muslim world, and is also the only Muslim-majority country openly in possession of nuclear weapons. The country shares land borders with India, Iran, Afghanistan, and China.\\nThe country has extensive trade relations with the European Union and with several countries globally. As of 2023, Pakistan does not recognize two other United Nations member states (Armenia and Israel) and its ties with India remain frozen since 2019.\\nFrom a geopolitical perspective, Pakistan's location is strategically important as it is situated at the crossroads of major maritime and land transit routes between the Middle East and South Asia, while also serving as a bridge between the Arabian Sea and the energy-rich regions of Central Asia. Since the partition of India, the Kashmir conflict has defined the India–Pakistan relationship: the two countries claim each other's zones of control in Kashmir, but are separated by a ceasefire boundary known as the Line of Control. Pakistan has close bilateral ties with China and the Muslim world, including Turkey, Saudi Arabia, and the Gulf Arab countries. As a part of the First World during the Cold War, Pakistan closely cooperated with the United States to combat the global influence of the Soviet Union, though this relationship later became strained over the course of the War on Terror. Pakistan is an active member of the Commonwealth of Nations, Organization of Islamic Cooperation, and the Shanghai Cooperation Organization.\", 'source': 'https://en.wikipedia.org/wiki/Foreign_relations_of_Pakistan'}, page_content='The Islamic Republic of Pakistan emerged as an independent country through the partition of India in August 1947 and was admitted as a United Nations member state in September 1947. It is currently the second-most populous country within the Muslim world, and is also the only Muslim-majority country openly in possession of nuclear weapons. The country shares land borders with India, Iran, Afghanistan, and China.\\nThe country has extensive trade relations with the European Union and with several countries globally. As of 2023, Pakistan does not recognize two other United Nations member states (Armenia and Israel) and its ties with India remain frozen since 2019.\\nFrom a geopolitical perspective, Pakistan\\'s location is strategically important as it is situated at the crossroads of major maritime and land transit routes between the Middle East and South Asia, while also serving as a bridge between the Arabian Sea and the energy-rich regions of Central Asia. Since the partition of India, the Kashmir conflict has defined the India–Pakistan relationship: the two countries claim each other\\'s zones of control in Kashmir, but are separated by a ceasefire boundary known as the Line of Control. Pakistan has close bilateral ties with China and the Muslim world, including Turkey, Saudi Arabia, and the Gulf Arab countries. As a part of the First World during the Cold War, Pakistan closely cooperated with the United States to combat the global influence of the Soviet Union, though this relationship later became strained over the course of the War on Terror. Pakistan is an active member of the Commonwealth of Nations, Organization of Islamic Cooperation, and the Shanghai Cooperation Organization.\\n\\n\\n== Foreign policy of Pakistan ==\\nPakistan\\'s foreign policy seeks the \\'promotion of Pakistan as a dynamic, progressive, moderate, and democratic Islamic country; developing friendly relations with all countries of the world, especially major powers and immediate neighbors; consolidating our commercial and economic cooperation with international community.\"\\nPakistan\\'s foreign policy is meant to formalize and define its interactions with foreign nations and standardize interactions with organizations, corporations and individual citizens. Backed by the semi-agricultural and semi-industrialized economy, Pakistan is the 44th largest (nominal GDP, 2025) and 26th largest (purchasing) economic power and 7th largest military in the world in terms of active personnel, with a defense budget of US$10.2 billion (2024), 2.7% of its GDP (2024). The Foreign Minister of Pakistan is the official charged with state-to-state diplomacy, although the Prime minister maintains an ultimate authority over foreign policy. The state foreign policy includes defining the national interest, as well as the economic interest and strategies chosen both to safeguard that and to achieve its policy goals. Following the general election held in May 2013, Tariq Fatimi and NSA Sartaj Aziz were designated as advisers to the Prime Minister on foreign and strategic policies. After the dismissal of Nawaz Sharif\\'s government in July 2017, Khawaja Muhammad Asif held the portfolio of foreign minister under the premiership of Shahid Khaqan Abbasi. After the victory of Imran Khan Niazi in the Pakistan General Elections 2018, Shah Mehmood Qureshi was named the Minister of Foreign Affairs. Subsequently, Bilawal Bhutto Zardari became foreign minister after the political crisis-a position previously held by his grandfather, Zulfikar Ali Bhutto, and Hina Rabbani Khar.\\n\\n\\n=== M A Jinnah\\'s Vision ===\\nIn 1947, Muhammad Ali Jinnah, founder of the state of Pakistan, clearly described the principles and objectives of Pakistan\\'s foreign policy in a broadcast message, which is featured prominently in a quotation on the homepage of Pakistan\\'s Ministry of Foreign Affairs website: \"The foundation of our foreign policy is friendship with all nations across the globe.\"\\nOn 15 August 1947, outlining the foreign policy '),\n",
       " Document(metadata={'title': 'Dominion of Pakistan', 'summary': 'The Dominion of Pakistan, officially Pakistan, was an independent federal dominion in the British Commonwealth of Nations, which existed from 14 August 1947 to 23 March 1956. It was created by the passing of the Indian Independence Act 1947 by the British parliament, which also created an independent Dominion of India.\\nThe new dominion consisted of those presidencies and provinces of British India which were allocated to it in the Partition of India. Until 1947, these regions had been ruled by the United Kingdom as a part of the British Empire.\\nIts status as a federal dominion within the British Empire ended in 1956 with the completion of the Constitution of Pakistan, which established the country as a republic. The constitution also administratively split the nation into West Pakistan and East Pakistan. Until then, these provinces had been governed as a singular entity, despite being separate geographic exclaves. Eventually, the East became Bangladesh and the West became Pakistan.\\nDuring the year that followed its independence, the new country was joined by the princely states of Pakistan, which were ruled by princes who had previously been in subsidiary alliances with the British. These states acceded to Pakistan one by one as their rulers signed Instruments of Accession. For many years, these states enjoyed a special status within the dominion and later the republic, but they were slowly incorporated into the provinces. The last remnants of their internal self-government were lost by 1974.\\n\\n', 'source': 'https://en.wikipedia.org/wiki/Dominion_of_Pakistan'}, page_content='The Dominion of Pakistan, officially Pakistan, was an independent federal dominion in the British Commonwealth of Nations, which existed from 14 August 1947 to 23 March 1956. It was created by the passing of the Indian Independence Act 1947 by the British parliament, which also created an independent Dominion of India.\\nThe new dominion consisted of those presidencies and provinces of British India which were allocated to it in the Partition of India. Until 1947, these regions had been ruled by the United Kingdom as a part of the British Empire.\\nIts status as a federal dominion within the British Empire ended in 1956 with the completion of the Constitution of Pakistan, which established the country as a republic. The constitution also administratively split the nation into West Pakistan and East Pakistan. Until then, these provinces had been governed as a singular entity, despite being separate geographic exclaves. Eventually, the East became Bangladesh and the West became Pakistan.\\nDuring the year that followed its independence, the new country was joined by the princely states of Pakistan, which were ruled by princes who had previously been in subsidiary alliances with the British. These states acceded to Pakistan one by one as their rulers signed Instruments of Accession. For many years, these states enjoyed a special status within the dominion and later the republic, but they were slowly incorporated into the provinces. The last remnants of their internal self-government were lost by 1974.\\n\\n\\n== History ==\\n\\n\\n=== Partition and independence ===\\n\\nSection 1 of the Indian Independence Act 1947 provided that from \"the fifteenth day of August, nineteen hundred and forty-seven, two independent dominions shall be set up in India, to be known respectively as India and Pakistan.\"  Muslims had been pushing for their own state since at least 1940 (see the Lahore resolution), believing they would become second-class citizens in a Hindu-majority India otherwise. The British monarch became the head of state of both the new dominions, with Pakistan sharing a king with the United Kingdom and the other dominions of the British Commonwealth, and the monarch\\'s constitutional roles in Pakistan were delegated to the Governor-General of Pakistan.\\nBefore August 1947, about half of the area of present-day Pakistan was part of British India, which was directly governed by the British in the name of the British Crown, while the remainder were princely states in subsidiary alliances with the British, enjoying semi-autonomous self-government. The British abandoned these alliances in August 1947, leaving the states entirely independent, and between 1947 and 1948 the states all acceded to Pakistan, while retaining internal self-government for several years.\\nMore than ten million people migrated across the new borders and between 200,000 and 2,000,000 people died in the spate of communal violence in the Punjab in what some scholars have described as a \\'retributive genocide\\' between the religions. The Pakistani government claimed that 50,000 Muslim women were abducted and raped by Hindu and Sikh men and similarly the Indian government claimed that Muslims abducted and raped 33,000 Hindu and Sikh women. The two governments agreed to repatriate abducted women and thousands of Hindu, Sikh and Muslim women were repatriated to their families in the 1950s. The dispute over Kashmir escalated into the first war between India and Pakistan. With the assistance of the United Nations (UN) the war was ended but it became the Kashmir dispute, unresolved as of 2024.\\n\\nIn 1947, the founding fathers of Pakistan agreed to appoint Liaquat Ali Khan as the country\\'s first prime minister, with Muhammad Ali Jinnah as both first governor-general and speaker of the State Parliament. Mountbatten had offered to serve as Governor-general of both India and Pakistan but Jinnah refused this offer.\\nThe first formal step to transform Pakistan into an ideological Islamic state was taken in Ma')]"
      ]
     },
     "execution_count": 6,
     "metadata": {},
     "output_type": "execute_result"
    }
   ],
   "source": [
    "docs"
   ]
  },
  {
   "cell_type": "code",
   "execution_count": 7,
   "id": "6d08046f-9610-4617-a35f-8657523020d0",
   "metadata": {},
   "outputs": [
    {
     "name": "stdout",
     "output_type": "stream",
     "text": [
      "\n",
      "--- Result 1 ---\n",
      "Content:\n",
      "The Islamic Republic of Pakistan emerged as an independent country through the partition of India in August 1947 and was admitted as a United Nations member state in September 1947. It is currently the second-most populous country within the Muslim world, and is also the only Muslim-majority country openly in possession of nuclear weapons. The country shares land borders with India, Iran, Afghanistan, and China.\n",
      "The country has extensive trade relations with the European Union and with several countries globally. As of 2023, Pakistan does not recognize two other United Nations member states (Armenia and Israel) and its ties with India remain frozen since 2019.\n",
      "From a geopolitical perspective, Pakistan's location is strategically important as it is situated at the crossroads of major maritime and land transit routes between the Middle East and South Asia, while also serving as a bridge between the Arabian Sea and the energy-rich regions of Central Asia. Since the partition of India, the Kashmir conflict has defined the India–Pakistan relationship: the two countries claim each other's zones of control in Kashmir, but are separated by a ceasefire boundary known as the Line of Control. Pakistan has close bilateral ties with China and the Muslim world, including Turkey, Saudi Arabia, and the Gulf Arab countries. As a part of the First World during the Cold War, Pakistan closely cooperated with the United States to combat the global influence of the Soviet Union, though this relationship later became strained over the course of the War on Terror. Pakistan is an active member of the Commonwealth of Nations, Organization of Islamic Cooperation, and the Shanghai Cooperation Organization.\n",
      "\n",
      "\n",
      "== Foreign policy of Pakistan ==\n",
      "Pakistan's foreign policy seeks the 'promotion of Pakistan as a dynamic, progressive, moderate, and democratic Islamic country; developing friendly relations with all countries of the world, especially major powers and immediate neighbors; consolidating our commercial and economic cooperation with international community.\"\n",
      "Pakistan's foreign policy is meant to formalize and define its interactions with foreign nations and standardize interactions with organizations, corporations and individual citizens. Backed by the semi-agricultural and semi-industrialized economy, Pakistan is the 44th largest (nominal GDP, 2025) and 26th largest (purchasing) economic power and 7th largest military in the world in terms of active personnel, with a defense budget of US$10.2 billion (2024), 2.7% of its GDP (2024). The Foreign Minister of Pakistan is the official charged with state-to-state diplomacy, although the Prime minister maintains an ultimate authority over foreign policy. The state foreign policy includes defining the national interest, as well as the economic interest and strategies chosen both to safeguard that and to achieve its policy goals. Following the general election held in May 2013, Tariq Fatimi and NSA Sartaj Aziz were designated as advisers to the Prime Minister on foreign and strategic policies. After the dismissal of Nawaz Sharif's government in July 2017, Khawaja Muhammad Asif held the portfolio of foreign minister under the premiership of Shahid Khaqan Abbasi. After the victory of Imran Khan Niazi in the Pakistan General Elections 2018, Shah Mehmood Qureshi was named the Minister of Foreign Affairs. Subsequently, Bilawal Bhutto Zardari became foreign minister after the political crisis-a position previously held by his grandfather, Zulfikar Ali Bhutto, and Hina Rabbani Khar.\n",
      "\n",
      "\n",
      "=== M A Jinnah's Vision ===\n",
      "In 1947, Muhammad Ali Jinnah, founder of the state of Pakistan, clearly described the principles and objectives of Pakistan's foreign policy in a broadcast message, which is featured prominently in a quotation on the homepage of Pakistan's Ministry of Foreign Affairs website: \"The foundation of our foreign policy is friendship with all nations across the globe.\"\n",
      "On 15 August 1947, outlining the foreign policy ...\n",
      "\n",
      "--- Result 2 ---\n",
      "Content:\n",
      "The Dominion of Pakistan, officially Pakistan, was an independent federal dominion in the British Commonwealth of Nations, which existed from 14 August 1947 to 23 March 1956. It was created by the passing of the Indian Independence Act 1947 by the British parliament, which also created an independent Dominion of India.\n",
      "The new dominion consisted of those presidencies and provinces of British India which were allocated to it in the Partition of India. Until 1947, these regions had been ruled by the United Kingdom as a part of the British Empire.\n",
      "Its status as a federal dominion within the British Empire ended in 1956 with the completion of the Constitution of Pakistan, which established the country as a republic. The constitution also administratively split the nation into West Pakistan and East Pakistan. Until then, these provinces had been governed as a singular entity, despite being separate geographic exclaves. Eventually, the East became Bangladesh and the West became Pakistan.\n",
      "During the year that followed its independence, the new country was joined by the princely states of Pakistan, which were ruled by princes who had previously been in subsidiary alliances with the British. These states acceded to Pakistan one by one as their rulers signed Instruments of Accession. For many years, these states enjoyed a special status within the dominion and later the republic, but they were slowly incorporated into the provinces. The last remnants of their internal self-government were lost by 1974.\n",
      "\n",
      "\n",
      "== History ==\n",
      "\n",
      "\n",
      "=== Partition and independence ===\n",
      "\n",
      "Section 1 of the Indian Independence Act 1947 provided that from \"the fifteenth day of August, nineteen hundred and forty-seven, two independent dominions shall be set up in India, to be known respectively as India and Pakistan.\"  Muslims had been pushing for their own state since at least 1940 (see the Lahore resolution), believing they would become second-class citizens in a Hindu-majority India otherwise. The British monarch became the head of state of both the new dominions, with Pakistan sharing a king with the United Kingdom and the other dominions of the British Commonwealth, and the monarch's constitutional roles in Pakistan were delegated to the Governor-General of Pakistan.\n",
      "Before August 1947, about half of the area of present-day Pakistan was part of British India, which was directly governed by the British in the name of the British Crown, while the remainder were princely states in subsidiary alliances with the British, enjoying semi-autonomous self-government. The British abandoned these alliances in August 1947, leaving the states entirely independent, and between 1947 and 1948 the states all acceded to Pakistan, while retaining internal self-government for several years.\n",
      "More than ten million people migrated across the new borders and between 200,000 and 2,000,000 people died in the spate of communal violence in the Punjab in what some scholars have described as a 'retributive genocide' between the religions. The Pakistani government claimed that 50,000 Muslim women were abducted and raped by Hindu and Sikh men and similarly the Indian government claimed that Muslims abducted and raped 33,000 Hindu and Sikh women. The two governments agreed to repatriate abducted women and thousands of Hindu, Sikh and Muslim women were repatriated to their families in the 1950s. The dispute over Kashmir escalated into the first war between India and Pakistan. With the assistance of the United Nations (UN) the war was ended but it became the Kashmir dispute, unresolved as of 2024.\n",
      "\n",
      "In 1947, the founding fathers of Pakistan agreed to appoint Liaquat Ali Khan as the country's first prime minister, with Muhammad Ali Jinnah as both first governor-general and speaker of the State Parliament. Mountbatten had offered to serve as Governor-general of both India and Pakistan but Jinnah refused this offer.\n",
      "The first formal step to transform Pakistan into an ideological Islamic state was taken in Ma...\n"
     ]
    }
   ],
   "source": [
    "# Print retrieved content\n",
    "for i, doc in enumerate(docs):\n",
    "    print(f\"\\n--- Result {i+1} ---\")\n",
    "    print(f\"Content:\\n{doc.page_content}...\")  # truncate for display"
   ]
  },
  {
   "cell_type": "markdown",
   "id": "e8fd5f42-8e3d-4fe1-9655-3352ea85a68d",
   "metadata": {},
   "source": [
    "## Vector Store Retriever"
   ]
  },
  {
   "cell_type": "code",
   "execution_count": 8,
   "id": "3ee84a2c-1af8-401e-9e72-67dff21d30b5",
   "metadata": {},
   "outputs": [],
   "source": [
    "from langchain_community.vectorstores import Chroma\n",
    "from langchain_openai import OpenAIEmbeddings\n",
    "from langchain_core.documents import Document"
   ]
  },
  {
   "cell_type": "code",
   "execution_count": 9,
   "id": "438889ef-06cf-40af-8fd0-994d3dcbcb8d",
   "metadata": {},
   "outputs": [],
   "source": [
    "# Step 1: Your source documents\n",
    "documents = [\n",
    "    Document(page_content=\"LangChain helps developers build LLM applications easily.\"),\n",
    "    Document(page_content=\"Chroma is a vector database optimized for LLM-based search.\"),\n",
    "    Document(page_content=\"Embeddings convert text into high-dimensional vectors.\"),\n",
    "    Document(page_content=\"OpenAI provides powerful embedding models.\"),\n",
    "]"
   ]
  },
  {
   "cell_type": "code",
   "execution_count": null,
   "id": "34b8e427-9689-40cb-99f5-ed1fae449591",
   "metadata": {},
   "outputs": [],
   "source": [
    "# Step 2: Initialize embedding model\n",
    "embedding_model = OpenAIEmbeddings()\n",
    "\n",
    "# Step 3: Create Chroma vector store in memory\n",
    "vectorstore = Chroma.from_documents(\n",
    "    documents=documents,\n",
    "    embedding=embedding_model,\n",
    "    collection_name=\"my_collection\"\n",
    ")"
   ]
  },
  {
   "cell_type": "code",
   "execution_count": null,
   "id": "65c14791-a808-4936-9bb1-02da2a751382",
   "metadata": {},
   "outputs": [],
   "source": [
    "# Step 4: Convert vectorstore into a retriever\n",
    "retriever = vectorstore.as_retriever(search_kwargs={\"k\": 2})"
   ]
  },
  {
   "cell_type": "code",
   "execution_count": 11,
   "id": "77884e3c-bc6d-4d2a-b8f2-3cfd13d47f2c",
   "metadata": {},
   "outputs": [],
   "source": [
    "query = \"What is Chroma used for?\"\n",
    "results = retriever.invoke(query)"
   ]
  },
  {
   "cell_type": "code",
   "execution_count": 12,
   "id": "46c3d11e-e820-46fb-8b6a-3512c1fc92b9",
   "metadata": {},
   "outputs": [
    {
     "name": "stdout",
     "output_type": "stream",
     "text": [
      "\n",
      "--- Result 1 ---\n",
      "Chroma key compositing, or chroma keying, is a visual-effects and post-production technique for compositing (layering) two or more images or video streams together based on colour hues (chroma range). The technique has been used in many fields to remove a background from the subject of a photo or video – particularly the newscasting, motion picture, and video game industries. A colour range in the foreground footage is made transparent, allowing separately filmed background footage or a static image to be inserted into the scene. The chroma keying technique is commonly used in video production and post-production. This technique is also referred to as colour keying, colour separation overlay (CSO; primarily by the BBC), or by various terms for specific colour-related variants such as green screen or blue screen; chroma keying can be done with backgrounds of any colour that are uniform and distinct, but green and blue backgrounds are more commonly used because they differ most distinctly in hue from any human skin colour. No part of the subject being filmed or photographed may duplicate the colour used as the backing, or the part may be erroneously identified as part of the backing.\n",
      "It is commonly used for live weather forecast broadcasts in which a news presenter is seen standing in front of a CGI map instead of a large blue or green background. Chroma keying is also common in the entertainment industry for visual effects in movies and video games. Rotoscopy may instead be carried out on subjects that are not in front of a green (or blue) screen. Motion tracking can also be used in conjunction with chroma keying, such as to move the background as the subject moves.\n",
      "\n",
      "\n",
      "== History ==\n",
      "\n",
      "\n",
      "=== Predecessors ===\n",
      "Prior to the introduction of travelling mattes and optical printing, double exposure was used to introduce elements into a scene which were not present in the initial exposure. This was done using black draping where a green screen would be used today. George Albert Smith first used this approach in 1898. In 1903, The Great Train Robbery by Edwin S. Porter used double exposure to add background scenes to windows which were black when filmed on set, using a garbage matte to expose only the window areas.\n",
      "\n",
      "In order to have figures in one exposure actually move in front of a substituted background in the other, a travelling matte was needed, to occlude the correct portion of the background in each frame. In 1918 Frank Williams patented a travelling matte technique, again based on using a black background. This was used in many films, such as The Invisible Man.: 4 \n",
      "In the 1920s, Walt Disney used a white backdrop to include human actors with cartoon characters and backgrounds in his Alice Comedies.: 5 \n",
      "\n",
      "\n",
      "=== From bluescreen to greenscreen ===\n",
      "The blue screen method was developed in the 1930s at RKO Radio Pictures.  At RKO, Linwood Dunn used an early version of the travelling matte to create \"wipes\" – where there were transitions like a windshield wiper in films such as Flying Down to Rio (1933). Credited to Larry Butler, a scene featuring a genie escaping from a bottle was the first use of a proper bluescreen process to create a travelling matte for The Thief of Bagdad (1940), which won the Academy Award for Best Special Effects that year. In 1950, Warner Brothers employee and ex-Kodak researcher Arthur Widmer began working on an ultraviolet travelling matte process. He also began developing bluescreen techniques: one of the first films to use them was the 1958 adaptation of the Ernest Hemingway novella, The Old Man and the Sea, starring Spencer Tracy.\n",
      "The name \"Chroma-Key\" was RCA's trade name for the process, as used on its NBC television broadcasts, incorporating patents granted to RCA's Albert N. Goldsmith. A very early broadcast use was NBC's George Gobel Show in fall 1957.\n",
      "Petro Vlahos was awarded an Academy Award for his refinement of these techniques in 1964. His technique exploits the fact that most objects in real-world sce\n",
      "\n",
      "--- Result 2 ---\n",
      "HSL and HSV are the two most common cylindrical-coordinate representations of points in an RGB color model. The two representations rearrange the geometry of RGB in an attempt to be more intuitive and perceptually relevant than the cartesian (cube) representation. Developed in the 1970s for computer graphics applications, HSL and HSV are used today in color pickers, in image editing software, and less commonly in image analysis and computer vision.\n",
      "HSL stands for hue, saturation, and lightness, and is often also called HLS. HSV stands for hue, saturation, and value, and is also often called HSB (B for brightness). A third model, common in computer vision applications, is HSI, for hue, saturation, and intensity. However, while typically consistent, these definitions are not standardized, and any of these abbreviations might be used for any of these three or several other related cylindrical models. (For technical definitions of these terms, see below.)\n",
      "In each cylinder, the angle around the central vertical axis corresponds to \"hue\", the distance from the axis corresponds to \"saturation\", and the distance along the axis corresponds to \"lightness\", \"value\" or \"brightness\". Note that while \"hue\" in HSL and HSV refers to the same attribute, their definitions of \"saturation\" differ dramatically. Because HSL and HSV are simple transformations of device-dependent RGB models, the physical colors they define depend on the colors of the red, green, and blue primaries of the device or of the particular RGB space, and on the gamma correction used to represent the amounts of those primaries. Each unique RGB device therefore has unique HSL and HSV spaces to accompany it, and numerical HSL or HSV values describe a different color for each basis RGB space.\n",
      "Both of these representations are used widely in computer graphics, and one or the other of them is often more convenient than RGB, but both are also criticized for not adequately separating color-making attributes, or for their lack of perceptual uniformity. Other more computationally intensive models, such as CIELAB or CIECAM02 are said to better achieve these goals.\n",
      "\n",
      "\n",
      "== Basic principle ==\n",
      "\n",
      "HSL and HSV are both cylindrical geometries (fig. 2), with hue, their angular dimension, starting at the red primary at 0°, passing through the green primary at 120° and the blue primary at 240°, and then wrapping back to red at 360°. In each geometry, the central vertical axis comprises the neutral, achromatic, or gray colors ranging, from top to bottom, white at lightness 1 (value 1) to black at lightness 0 (value 0).\n",
      "In both geometries, the additive primary and secondary colors – red, yellow, green, cyan, blue and magenta – and linear mixtures between adjacent pairs of them, sometimes called pure colors, are arranged around the outside edge of the cylinder with saturation 1. These saturated colors have lightness 0.5 in HSL, while in HSV they have value 1. Mixing these pure colors with black – producing so-called shades – leaves saturation unchanged. In HSL, saturation is also unchanged by tinting with white, and only mixtures with both black and white – called tones – have saturation less than 1. In HSV, tinting alone reduces saturation.\n",
      "\n",
      "Because these definitions of saturation – in which very dark (in both models) or very light (in HSL) near-neutral colors are considered fully saturated (for instance,   from the bottom right in the sliced HSL cylinder or   from the top right) – conflict with the intuitive notion of color purity, often a conic or biconic solid is drawn instead (fig. 3), with what this article calls chroma as its radial dimension (equal to the range of the RGB values), instead of saturation (where the saturation is equal to the chroma over the maximum chroma in that slice of the (bi)cone). Confusingly, such diagrams usually label this radial dimension \"saturation\", blurring or erasing the distinction between saturation and chroma. As described below, computing chroma is a helpful st\n"
     ]
    }
   ],
   "source": [
    "for i, doc in enumerate(results):\n",
    "    print(f\"\\n--- Result {i+1} ---\")\n",
    "    print(doc.page_content)"
   ]
  },
  {
   "cell_type": "code",
   "execution_count": null,
   "id": "53981515-3a8c-49d3-b7d7-ead0283d8adc",
   "metadata": {},
   "outputs": [],
   "source": [
    "results = vectorstore.similarity_search(query, k=2)"
   ]
  },
  {
   "cell_type": "code",
   "execution_count": 14,
   "id": "c37c078b-e53d-41e8-a1a6-b28cdce42abc",
   "metadata": {},
   "outputs": [
    {
     "name": "stdout",
     "output_type": "stream",
     "text": [
      "\n",
      "--- Result 1 ---\n",
      "Chroma key compositing, or chroma keying, is a visual-effects and post-production technique for compositing (layering) two or more images or video streams together based on colour hues (chroma range). The technique has been used in many fields to remove a background from the subject of a photo or video – particularly the newscasting, motion picture, and video game industries. A colour range in the foreground footage is made transparent, allowing separately filmed background footage or a static image to be inserted into the scene. The chroma keying technique is commonly used in video production and post-production. This technique is also referred to as colour keying, colour separation overlay (CSO; primarily by the BBC), or by various terms for specific colour-related variants such as green screen or blue screen; chroma keying can be done with backgrounds of any colour that are uniform and distinct, but green and blue backgrounds are more commonly used because they differ most distinctly in hue from any human skin colour. No part of the subject being filmed or photographed may duplicate the colour used as the backing, or the part may be erroneously identified as part of the backing.\n",
      "It is commonly used for live weather forecast broadcasts in which a news presenter is seen standing in front of a CGI map instead of a large blue or green background. Chroma keying is also common in the entertainment industry for visual effects in movies and video games. Rotoscopy may instead be carried out on subjects that are not in front of a green (or blue) screen. Motion tracking can also be used in conjunction with chroma keying, such as to move the background as the subject moves.\n",
      "\n",
      "\n",
      "== History ==\n",
      "\n",
      "\n",
      "=== Predecessors ===\n",
      "Prior to the introduction of travelling mattes and optical printing, double exposure was used to introduce elements into a scene which were not present in the initial exposure. This was done using black draping where a green screen would be used today. George Albert Smith first used this approach in 1898. In 1903, The Great Train Robbery by Edwin S. Porter used double exposure to add background scenes to windows which were black when filmed on set, using a garbage matte to expose only the window areas.\n",
      "\n",
      "In order to have figures in one exposure actually move in front of a substituted background in the other, a travelling matte was needed, to occlude the correct portion of the background in each frame. In 1918 Frank Williams patented a travelling matte technique, again based on using a black background. This was used in many films, such as The Invisible Man.: 4 \n",
      "In the 1920s, Walt Disney used a white backdrop to include human actors with cartoon characters and backgrounds in his Alice Comedies.: 5 \n",
      "\n",
      "\n",
      "=== From bluescreen to greenscreen ===\n",
      "The blue screen method was developed in the 1930s at RKO Radio Pictures.  At RKO, Linwood Dunn used an early version of the travelling matte to create \"wipes\" – where there were transitions like a windshield wiper in films such as Flying Down to Rio (1933). Credited to Larry Butler, a scene featuring a genie escaping from a bottle was the first use of a proper bluescreen process to create a travelling matte for The Thief of Bagdad (1940), which won the Academy Award for Best Special Effects that year. In 1950, Warner Brothers employee and ex-Kodak researcher Arthur Widmer began working on an ultraviolet travelling matte process. He also began developing bluescreen techniques: one of the first films to use them was the 1958 adaptation of the Ernest Hemingway novella, The Old Man and the Sea, starring Spencer Tracy.\n",
      "The name \"Chroma-Key\" was RCA's trade name for the process, as used on its NBC television broadcasts, incorporating patents granted to RCA's Albert N. Goldsmith. A very early broadcast use was NBC's George Gobel Show in fall 1957.\n",
      "Petro Vlahos was awarded an Academy Award for his refinement of these techniques in 1964. His technique exploits the fact that most objects in real-world sce\n",
      "\n",
      "--- Result 2 ---\n",
      "HSL and HSV are the two most common cylindrical-coordinate representations of points in an RGB color model. The two representations rearrange the geometry of RGB in an attempt to be more intuitive and perceptually relevant than the cartesian (cube) representation. Developed in the 1970s for computer graphics applications, HSL and HSV are used today in color pickers, in image editing software, and less commonly in image analysis and computer vision.\n",
      "HSL stands for hue, saturation, and lightness, and is often also called HLS. HSV stands for hue, saturation, and value, and is also often called HSB (B for brightness). A third model, common in computer vision applications, is HSI, for hue, saturation, and intensity. However, while typically consistent, these definitions are not standardized, and any of these abbreviations might be used for any of these three or several other related cylindrical models. (For technical definitions of these terms, see below.)\n",
      "In each cylinder, the angle around the central vertical axis corresponds to \"hue\", the distance from the axis corresponds to \"saturation\", and the distance along the axis corresponds to \"lightness\", \"value\" or \"brightness\". Note that while \"hue\" in HSL and HSV refers to the same attribute, their definitions of \"saturation\" differ dramatically. Because HSL and HSV are simple transformations of device-dependent RGB models, the physical colors they define depend on the colors of the red, green, and blue primaries of the device or of the particular RGB space, and on the gamma correction used to represent the amounts of those primaries. Each unique RGB device therefore has unique HSL and HSV spaces to accompany it, and numerical HSL or HSV values describe a different color for each basis RGB space.\n",
      "Both of these representations are used widely in computer graphics, and one or the other of them is often more convenient than RGB, but both are also criticized for not adequately separating color-making attributes, or for their lack of perceptual uniformity. Other more computationally intensive models, such as CIELAB or CIECAM02 are said to better achieve these goals.\n",
      "\n",
      "\n",
      "== Basic principle ==\n",
      "\n",
      "HSL and HSV are both cylindrical geometries (fig. 2), with hue, their angular dimension, starting at the red primary at 0°, passing through the green primary at 120° and the blue primary at 240°, and then wrapping back to red at 360°. In each geometry, the central vertical axis comprises the neutral, achromatic, or gray colors ranging, from top to bottom, white at lightness 1 (value 1) to black at lightness 0 (value 0).\n",
      "In both geometries, the additive primary and secondary colors – red, yellow, green, cyan, blue and magenta – and linear mixtures between adjacent pairs of them, sometimes called pure colors, are arranged around the outside edge of the cylinder with saturation 1. These saturated colors have lightness 0.5 in HSL, while in HSV they have value 1. Mixing these pure colors with black – producing so-called shades – leaves saturation unchanged. In HSL, saturation is also unchanged by tinting with white, and only mixtures with both black and white – called tones – have saturation less than 1. In HSV, tinting alone reduces saturation.\n",
      "\n",
      "Because these definitions of saturation – in which very dark (in both models) or very light (in HSL) near-neutral colors are considered fully saturated (for instance,   from the bottom right in the sliced HSL cylinder or   from the top right) – conflict with the intuitive notion of color purity, often a conic or biconic solid is drawn instead (fig. 3), with what this article calls chroma as its radial dimension (equal to the range of the RGB values), instead of saturation (where the saturation is equal to the chroma over the maximum chroma in that slice of the (bi)cone). Confusingly, such diagrams usually label this radial dimension \"saturation\", blurring or erasing the distinction between saturation and chroma. As described below, computing chroma is a helpful st\n"
     ]
    }
   ],
   "source": [
    "for i, doc in enumerate(results):\n",
    "    print(f\"\\n--- Result {i+1} ---\")\n",
    "    print(doc.page_content)"
   ]
  },
  {
   "cell_type": "markdown",
   "id": "97f2e36b-8d90-4c65-a5b9-9966de5e002f",
   "metadata": {},
   "source": [
    "## MMR"
   ]
  },
  {
   "cell_type": "code",
   "execution_count": 15,
   "id": "bd49c188-e47b-4758-a0d7-82306489e54f",
   "metadata": {},
   "outputs": [],
   "source": [
    "# Sample documents\n",
    "docs = [\n",
    "    Document(page_content=\"LangChain makes it easy to work with LLMs.\"),\n",
    "    Document(page_content=\"LangChain is used to build LLM based applications.\"),\n",
    "    Document(page_content=\"Chroma is used to store and search document embeddings.\"),\n",
    "    Document(page_content=\"Embeddings are vector representations of text.\"),\n",
    "    Document(page_content=\"MMR helps you get diverse results when doing similarity search.\"),\n",
    "    Document(page_content=\"LangChain supports Chroma, FAISS, Pinecone, and more.\"),\n",
    "]"
   ]
  },
  {
   "cell_type": "code",
   "execution_count": null,
   "id": "ce7087ba-88b1-4ce6-a2c4-a8e5a507d2c3",
   "metadata": {},
   "outputs": [],
   "source": [
    "from langchain_community.vectorstores import FAISS\n",
    "\n",
    "# Initialize OpenAI embeddings\n",
    "embedding_model = OpenAIEmbeddings()\n",
    "\n",
    "# Step 2: Create the FAISS vector store from documents\n",
    "vectorstore = FAISS.from_documents(\n",
    "    documents=docs,\n",
    "    embedding=embedding_model\n",
    ")"
   ]
  },
  {
   "cell_type": "code",
   "execution_count": null,
   "id": "53c4f7c1-9765-44b9-8e91-273374e4192f",
   "metadata": {},
   "outputs": [],
   "source": [
    "# Enable MMR in the retriever\n",
    "retriever = vectorstore.as_retriever(\n",
    "    search_type=\"mmr\",                   # <-- This enables MMR\n",
    "    search_kwargs={\"k\": 3, \"lambda_mult\": 0.5}  # k = top results, lambda_mult = relevance-diversity balance\n",
    ")"
   ]
  },
  {
   "cell_type": "code",
   "execution_count": 18,
   "id": "6c8e4dab-72dc-4087-9639-b75740eae9ea",
   "metadata": {},
   "outputs": [],
   "source": [
    "query = \"What is langchain?\"\n",
    "results = retriever.invoke(query)"
   ]
  },
  {
   "cell_type": "code",
   "execution_count": 19,
   "id": "29320c30-51a1-4ec6-bd71-903ba7d29429",
   "metadata": {},
   "outputs": [
    {
     "name": "stdout",
     "output_type": "stream",
     "text": [
      "\n",
      "--- Result 1 ---\n",
      "Retrieval-augmented generation (RAG) is a technique that enables large language models (LLMs) to retrieve and incorporate new information. With RAG, LLMs do not respond to user queries until they refer to a specified set of documents. These documents supplement information from the LLM's pre-existing training data. This allows LLMs to use domain-specific and/or updated information that is not available in the training data. For example, this helps LLM-based chatbots access internal company data or generate responses based on authoritative sources.\n",
      "RAG improves large language models (LLMs) by incorporating information retrieval before generating responses. Unlike traditional LLMs that rely on static training data, RAG pulls relevant text from databases, uploaded documents, or web sources. According to Ars Technica, \"RAG is a way of improving LLM performance, in essence by blending the LLM process with a web search or other document look-up process to help LLMs stick to the facts.\" This method helps reduce AI hallucinations, which have caused chatbots to describe policies that don't exist, or recommend nonexistent legal cases to lawyers that are looking for citations to support their arguments.\n",
      "RAG also reduces the need to retrain LLMs with new data, saving on computational and financial costs. Beyond efficiency gains, RAG also allows LLMs to include sources in their responses, so users can verify the cited sources. This provides greater transparency, as users can cross-check retrieved content to ensure accuracy and relevance.\n",
      "The term RAG was first introduced in a 2020 research paper from Meta.\n",
      "\n",
      "\n",
      "== RAG and LLM Limitations ==\n",
      "LLMs can provide incorrect information. For example, when Google first demonstrated its LLM tool \"Google Bard\", the LLM provided incorrect information about the James Webb Space Telescope. This error contributed to a $100 billion decline in the company’s stock value. RAG is used to prevent these errors, but it does not solve all the problems. For example, LLMs can generate misinformation even when pulling from factually correct sources if they misinterpret the context. MIT Technology Review gives the example of an AI-generated response stating, \"The United States has had one Muslim president, Barack Hussein Obama.\" The model retrieved this from an academic book rhetorically titled Barack Hussein Obama: America’s First Muslim President? The LLM did not \"know\" or \"understand\" the context of the title, generating a false statement.\n",
      "LLMs with RAG are programmed to prioritize new information. This technique has been called \"prompt stuffing.\" Without prompt stuffing, the LLM's input is generated by a user; with prompt stuffing, additional relevant context is added to this input to guide the model’s response. This approach provides the LLM with key information early in the prompt, encouraging it to prioritize the supplied data over pre-existing training knowledge.\n",
      "\n",
      "\n",
      "== Process ==\n",
      "Retrieval-augmented generation (RAG) enhances large language models (LLMs) by incorporating an information-retrieval mechanism that allows models to access and utilize additional data beyond their original training set. AWS states, \"RAG allows LLMs to retrieve relevant information from external data sources to generate more accurate and contextually relevant responses\" (\"indexing\"). This approach reduces reliance on static datasets, which can quickly become outdated. When a user submits a query, RAG uses a document retriever to search for relevant content from available sources before incorporating the retrieved information into the model's response (\"retrieval\"). Ars Technica notes that \"when new information becomes available, rather than having to retrain the model, all that’s needed is to augment the model’s external knowledge base with the updated information\" (\"augmentation\"). By dynamically integrating relevant data, RAG enables LLMs to generate more informed and contextually grounded responses (\"generation\"). IBM states that \"in t\n",
      "\n",
      "--- Result 2 ---\n",
      "The Model Context Protocol (MCP) is an open standard, open-source framework introduced by Anthropic in November 2024 to standardize the way artificial intelligence (AI) systems like large language models (LLMs) integrate and share data with external tools, systems, and data sources. MCP provides a universal interface for reading files, executing functions, and handling contextual prompts. Following its announcement, the protocol was adopted by major AI providers, including OpenAI and Google DeepMind.\n",
      "\n",
      "\n",
      "== Background ==\n",
      "The protocol was announced by Anthropic in November 2024 as an open standard for connecting AI assistants to data systems such as content repositories, business management tools, and development environments. It aims to address the challenge of information silos and legacy systems. Before MCP, developers often had to build custom connectors for each data source or tool, resulting in what Anthropic described as an \"N×M\" data integration problem.\n",
      "Earlier stop-gap approaches - such as OpenAI’s 2023 “function-calling” API and the ChatGPT plug-in framework - solved similar problems but required vendor-specific connectors. MCP’s authors note that the protocol deliberately re-uses the message-flow ideas of the Language Server Protocol (LSP) and is transported over JSON-RPC 2.0.\n",
      "\n",
      "\n",
      "== Features ==\n",
      "MCP defines a standardized framework for integrating AI systems with external data sources and tools. It includes specifications for data ingestion and transformation, contextual metadata tagging, and AI interoperability across different platforms. The protocol also supports secure, bidirectional connections between data sources and AI-powered tools.\n",
      "MCP enables developers to expose their data via MCP servers or to develop AI applications—referred to as MCP clients—that connect to these servers. Key components of the protocol include a formal protocol specification and software development kits (SDKs), local MCP server support in Claude Desktop applications, and an open-source repository of MCP server implementations.\n",
      "\n",
      "\n",
      "== Applications ==\n",
      "MCP has been applied in domains such as software development, business process automation, and natural language automation.\n",
      "One prominent use case is in desktop assistants, where applications such as the Claude Desktop app deploy local MCP servers to enable secure access to system tools and user files. In enterprise settings, internal assistants are enhanced with MCP to retrieve data from proprietary documents, CRM systems, and internal knowledge bases—companies like Block have integrated MCP into their internal tooling for this purpose.\n",
      "MCP also plays a critical role in multi-tool agent workflows, allowing agentic AI systems to coordinate multiple tools—for example, combining document lookup with messaging APIs—to support advanced, chain-of-thought reasoning across distributed resources.\n",
      "In the field of natural language data access, MCP enables applications such as AI2SQL to bridge language models with structured databases, allowing plain-language queries.\n",
      "MCP has been adopted for academic research workflows through integrations with reference management systems like Zotero. Multiple server implementations allow researchers to perform semantic searches across their libraries, extract PDF annotations, and generate literature reviews through AI-assisted analysis.\n",
      "The protocol has become increasingly common in software development tools. Integrated development environments (IDEs) like Zed, coding platforms such as Replit, and code intelligence tools like Sourcegraph have adopted MCP to grant AI coding assistants real-time access to project context. This integration is especially valuable for workflows like \"vibe coding\", where continuous, adaptive assistance is essential.\n",
      "In web application development, companies like Wix have embedded MCP servers into their platforms. This allows AI tools to interact with live website data, enabling dynamic content generation and on-the-fly edits. Such capabilit\n"
     ]
    }
   ],
   "source": [
    "for i, doc in enumerate(results):\n",
    "    print(f\"\\n--- Result {i+1} ---\")\n",
    "    print(doc.page_content)"
   ]
  },
  {
   "cell_type": "markdown",
   "id": "87f362dd-91c3-4fb0-95b2-6398f4c5db05",
   "metadata": {},
   "source": [
    "## Multiquery Retriever"
   ]
  },
  {
   "cell_type": "code",
   "execution_count": 20,
   "id": "b9d909cb-fa91-4f3d-ba4f-81e51f8a9568",
   "metadata": {},
   "outputs": [],
   "source": [
    "from langchain_community.vectorstores import FAISS\n",
    "from langchain_openai import OpenAIEmbeddings\n",
    "from langchain_core.documents import Document\n",
    "from langchain_openai import ChatOpenAI\n",
    "from langchain.retrievers.multi_query import MultiQueryRetriever"
   ]
  },
  {
   "cell_type": "code",
   "execution_count": 21,
   "id": "998d7432-f609-4f83-b20d-59d77cb28b98",
   "metadata": {},
   "outputs": [],
   "source": [
    "# Relevant health & wellness documents\n",
    "all_docs = [\n",
    "    Document(page_content=\"Regular walking boosts heart health and can reduce symptoms of depression.\", metadata={\"source\": \"H1\"}),\n",
    "    Document(page_content=\"Consuming leafy greens and fruits helps detox the body and improve longevity.\", metadata={\"source\": \"H2\"}),\n",
    "    Document(page_content=\"Deep sleep is crucial for cellular repair and emotional regulation.\", metadata={\"source\": \"H3\"}),\n",
    "    Document(page_content=\"Mindfulness and controlled breathing lower cortisol and improve mental clarity.\", metadata={\"source\": \"H4\"}),\n",
    "    Document(page_content=\"Drinking sufficient water throughout the day helps maintain metabolism and energy.\", metadata={\"source\": \"H5\"}),\n",
    "    Document(page_content=\"The solar energy system in modern homes helps balance electricity demand.\", metadata={\"source\": \"I1\"}),\n",
    "    Document(page_content=\"Python balances readability with power, making it a popular system design language.\", metadata={\"source\": \"I2\"}),\n",
    "    Document(page_content=\"Photosynthesis enables plants to produce energy by converting sunlight.\", metadata={\"source\": \"I3\"}),\n",
    "    Document(page_content=\"The 2022 FIFA World Cup was held in Qatar and drew global energy and excitement.\", metadata={\"source\": \"I4\"}),\n",
    "    Document(page_content=\"Black holes bend spacetime and store immense gravitational energy.\", metadata={\"source\": \"I5\"}),\n",
    "]"
   ]
  },
  {
   "cell_type": "code",
   "execution_count": null,
   "id": "b2b41f1c-dedf-4677-924c-175b10ee5759",
   "metadata": {},
   "outputs": [],
   "source": [
    "# Initialize OpenAI embeddings\n",
    "embedding_model = OpenAIEmbeddings()\n",
    "\n",
    "# Create FAISS vector store\n",
    "vectorstore = FAISS.from_documents(documents=all_docs, embedding=embedding_model)"
   ]
  },
  {
   "cell_type": "code",
   "execution_count": null,
   "id": "a3a611bd-4321-482e-b494-281a8b2190c9",
   "metadata": {},
   "outputs": [],
   "source": [
    "# Create retrievers\n",
    "similarity_retriever = vectorstore.as_retriever(search_type=\"similarity\", search_kwargs={\"k\": 5})"
   ]
  },
  {
   "cell_type": "code",
   "execution_count": null,
   "id": "a0443d05-30cc-401c-b84f-a2e9100ed9d8",
   "metadata": {},
   "outputs": [],
   "source": [
    "multiquery_retriever = MultiQueryRetriever.from_llm(\n",
    "    retriever=vectorstore.as_retriever(search_kwargs={\"k\": 5}),\n",
    "    llm=ChatOpenAI(model=\"gpt-3.5-turbo\")\n",
    ")"
   ]
  },
  {
   "cell_type": "code",
   "execution_count": 25,
   "id": "41fc5953-1a5b-41fa-a29d-d51d6231f679",
   "metadata": {},
   "outputs": [],
   "source": [
    "# Query\n",
    "query = \"How to improve energy levels and maintain balance?\""
   ]
  },
  {
   "cell_type": "code",
   "execution_count": null,
   "id": "84d02d6c-e1a9-4642-a81b-20bc8e356eee",
   "metadata": {},
   "outputs": [],
   "source": [
    "# Retrieve results\n",
    "similarity_results = similarity_retriever.invoke(query)\n",
    "multiquery_results= multiquery_retriever.invoke(query)"
   ]
  },
  {
   "cell_type": "code",
   "execution_count": null,
   "id": "8a735536-bd49-4680-b447-e8014d4632be",
   "metadata": {},
   "outputs": [],
   "source": [
    "for i, doc in enumerate(similarity_results):\n",
    "    print(f\"\\n--- Result {i+1} ---\")\n",
    "    print(doc.page_content)\n",
    "\n",
    "print(\"*\"*150)\n",
    "\n",
    "for i, doc in enumerate(multiquery_results):\n",
    "    print(f\"\\n--- Result {i+1} ---\")\n",
    "    print(doc.page_content)"
   ]
  },
  {
   "cell_type": "markdown",
   "id": "55b3cbd4-b9d9-471a-a2d6-dab0cedd0e22",
   "metadata": {},
   "source": [
    "## ContextualCompressionRetriever"
   ]
  },
  {
   "cell_type": "code",
   "execution_count": 28,
   "id": "7c76593e-681f-4695-bcef-1ec295dda1f3",
   "metadata": {},
   "outputs": [],
   "source": [
    "from langchain_community.vectorstores import FAISS\n",
    "from langchain_openai import OpenAIEmbeddings, ChatOpenAI\n",
    "from langchain.retrievers.contextual_compression import ContextualCompressionRetriever\n",
    "from langchain.retrievers.document_compressors import LLMChainExtractor\n",
    "from langchain_core.documents import Document"
   ]
  },
  {
   "cell_type": "code",
   "execution_count": 29,
   "id": "5e67ccb0-ea7d-4361-9969-4515bc067884",
   "metadata": {},
   "outputs": [],
   "source": [
    "# Recreate the document objects from the previous data\n",
    "docs = [\n",
    "    Document(page_content=(\n",
    "        \"\"\"The Grand Canyon is one of the most visited natural wonders in the world.\n",
    "        Photosynthesis is the process by which green plants convert sunlight into energy.\n",
    "        Millions of tourists travel to see it every year. The rocks date back millions of years.\"\"\"\n",
    "    ), metadata={\"source\": \"Doc1\"}),\n",
    "\n",
    "    Document(page_content=(\n",
    "        \"\"\"In medieval Europe, castles were built primarily for defense.\n",
    "        The chlorophyll in plant cells captures sunlight during photosynthesis.\n",
    "        Knights wore armor made of metal. Siege weapons were often used to breach castle walls.\"\"\"\n",
    "    ), metadata={\"source\": \"Doc2\"}),\n",
    "\n",
    "    Document(page_content=(\n",
    "        \"\"\"Basketball was invented by Dr. James Naismith in the late 19th century.\n",
    "        It was originally played with a soccer ball and peach baskets. NBA is now a global league.\"\"\"\n",
    "    ), metadata={\"source\": \"Doc3\"}),\n",
    "\n",
    "    Document(page_content=(\n",
    "        \"\"\"The history of cinema began in the late 1800s. Silent films were the earliest form.\n",
    "        Thomas Edison was among the pioneers. Photosynthesis does not occur in animal cells.\n",
    "        Modern filmmaking involves complex CGI and sound design.\"\"\"\n",
    "    ), metadata={\"source\": \"Doc4\"})\n",
    "]"
   ]
  },
  {
   "cell_type": "code",
   "execution_count": null,
   "id": "a1062750-de91-4bc7-8524-147687f045fa",
   "metadata": {},
   "outputs": [],
   "source": [
    "# Create a FAISS vector store from the documents\n",
    "embedding_model = OpenAIEmbeddings()\n",
    "vectorstore = FAISS.from_documents(docs, embedding_model)"
   ]
  },
  {
   "cell_type": "code",
   "execution_count": null,
   "id": "b97e8622-1041-4314-bd70-4e241a424b8d",
   "metadata": {},
   "outputs": [],
   "source": [
    "base_retriever = vectorstore.as_retriever(search_kwargs={\"k\": 5})"
   ]
  },
  {
   "cell_type": "code",
   "execution_count": 32,
   "id": "26017315-7418-4142-9f6b-2566b9ca60ab",
   "metadata": {},
   "outputs": [],
   "source": [
    "# Set up the compressor using an LLM\n",
    "llm = ChatOpenAI(model=\"gpt-3.5-turbo\")\n",
    "compressor = LLMChainExtractor.from_llm(llm)"
   ]
  },
  {
   "cell_type": "code",
   "execution_count": null,
   "id": "d463b61c-e882-417f-aab5-e88c9c68626b",
   "metadata": {},
   "outputs": [],
   "source": [
    "# Create the contextual compression retriever\n",
    "compression_retriever = ContextualCompressionRetriever(\n",
    "    base_retriever=base_retriever,\n",
    "    base_compressor=compressor\n",
    ")"
   ]
  },
  {
   "cell_type": "code",
   "execution_count": null,
   "id": "0235a9e8-a79c-42c7-b975-3e1d04eea15b",
   "metadata": {},
   "outputs": [],
   "source": [
    "# Query the retriever\n",
    "query = \"What is photosynthesis?\"\n",
    "compressed_results = compression_retriever.invoke(query)"
   ]
  },
  {
   "cell_type": "code",
   "execution_count": null,
   "id": "30a1ddff-9fd4-49a6-b079-72264e613989",
   "metadata": {},
   "outputs": [],
   "source": [
    "for i, doc in enumerate(compressed_results):\n",
    "    print(f\"\\n--- Result {i+1} ---\")\n",
    "    print(doc.page_content)\n"
   ]
  },
  {
   "cell_type": "code",
   "execution_count": null,
   "id": "4c4aaeaa-1290-4ddc-b21f-120a1b2bd947",
   "metadata": {},
   "outputs": [],
   "source": []
  }
 ],
 "metadata": {
  "kernelspec": {
   "display_name": "Python 3 (ipykernel)",
   "language": "python",
   "name": "python3"
  },
  "language_info": {
   "codemirror_mode": {
    "name": "ipython",
    "version": 3
   },
   "file_extension": ".py",
   "mimetype": "text/x-python",
   "name": "python",
   "nbconvert_exporter": "python",
   "pygments_lexer": "ipython3",
   "version": "3.12.5"
  }
 },
 "nbformat": 4,
 "nbformat_minor": 5
}
